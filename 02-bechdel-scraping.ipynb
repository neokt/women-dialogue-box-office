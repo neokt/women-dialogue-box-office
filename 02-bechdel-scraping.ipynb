{
 "cells": [
  {
   "cell_type": "code",
   "execution_count": 2,
   "metadata": {
    "collapsed": true
   },
   "outputs": [],
   "source": [
    "# -*- coding: utf-8 -*-\n",
    "\n",
    "from __future__ import division, unicode_literals\n",
    "\n",
    "import pandas as pd\n",
    "import numpy as np\n",
    "\n",
    "import time\n",
    "from time import sleep\n",
    "\n",
    "from bs4 import BeautifulSoup\n",
    "import requests\n",
    "\n",
    "import re\n",
    "import html5lib\n",
    "\n",
    "import pickle"
   ]
  },
  {
   "cell_type": "code",
   "execution_count": 14,
   "metadata": {
    "collapsed": true
   },
   "outputs": [],
   "source": [
    "bechdel_url = 'http://bechdeltest.com/?list=all'"
   ]
  },
  {
   "cell_type": "code",
   "execution_count": 22,
   "metadata": {
    "collapsed": true
   },
   "outputs": [],
   "source": [
    "columns = ['imdb_id', 'title', 'year', 'bechdel']"
   ]
  },
  {
   "cell_type": "code",
   "execution_count": 23,
   "metadata": {
    "collapsed": true
   },
   "outputs": [],
   "source": [
    "def make_soup(url):\n",
    "    response = requests.get(url)\n",
    "    page = BeautifulSoup(response.text, 'html5lib')\n",
    "    return page"
   ]
  },
  {
   "cell_type": "code",
   "execution_count": 24,
   "metadata": {
    "collapsed": true
   },
   "outputs": [],
   "source": [
    "def timefunc(f):\n",
    "    def f_timer(*args, **kwargs):\n",
    "        start = time.time()\n",
    "        result = f(*args, **kwargs)\n",
    "        end = time.time()\n",
    "        print f.__name__, 'took', end - start, 'seconds'\n",
    "        return result\n",
    "    return f_timer"
   ]
  },
  {
   "cell_type": "code",
   "execution_count": 25,
   "metadata": {
    "collapsed": false
   },
   "outputs": [],
   "source": [
    "@timefunc\n",
    "def get_bechdel(url, stop):\n",
    "    soup = make_soup(url)\n",
    "    imdb_regex = re.compile('/[^/]+/$')\n",
    "    year_regex = re.compile(' \\([0-9]* movies\\)')\n",
    "    df = pd.DataFrame(columns = columns)\n",
    "    \n",
    "    for movie in soup.findAll('div', class_='movie'):    \n",
    "        # Initialize an empty dictionary\n",
    "        d = dict.fromkeys(columns)\n",
    "        # Append Year\n",
    "        year = int(re.sub(year_regex,'',movie.findPrevious('h3').text))\n",
    "        if year == stop-1:\n",
    "            break\n",
    "        else:\n",
    "            d['year'] = year\n",
    "        # Find and append IMDB ID\n",
    "        url = movie.find('a')['href']\n",
    "        d['imdb_id'] = re.search(imdb_regex, url).group(0).replace('/','')\n",
    "        # Find and append Movie Title\n",
    "        d['title'] = movie.text.strip()\n",
    "        # Find and append Pass/Fail Status\n",
    "        if 'nopass' in movie.find('img')['src']:\n",
    "            d['bechdel'] = 0\n",
    "        else:\n",
    "            d['bechdel'] = 1\n",
    "        # Append to dataframe\n",
    "        df = df.append(d, ignore_index=True)\n",
    "        sleep(.05)\n",
    "    \n",
    "    return df"
   ]
  },
  {
   "cell_type": "code",
   "execution_count": 26,
   "metadata": {
    "collapsed": false
   },
   "outputs": [
    {
     "name": "stdout",
     "output_type": "stream",
     "text": [
      "get_bechdel took 418.785094976 seconds\n"
     ]
    }
   ],
   "source": [
    "# Scraping for movies back to 1980 (inclusive)\n",
    "bechdel_df = get_bechdel(bechdel_url, 1980)"
   ]
  },
  {
   "cell_type": "code",
   "execution_count": 7,
   "metadata": {
    "collapsed": false
   },
   "outputs": [],
   "source": [
    "bechdel_df.to_pickle('data/bechdel.pkl')"
   ]
  },
  {
   "cell_type": "markdown",
   "metadata": {},
   "source": [
    "## Load Pickle Point"
   ]
  },
  {
   "cell_type": "code",
   "execution_count": 3,
   "metadata": {
    "collapsed": false
   },
   "outputs": [],
   "source": [
    "bechdel_df = pd.read_pickle('data/bechdel.pkl')"
   ]
  },
  {
   "cell_type": "code",
   "execution_count": 5,
   "metadata": {
    "collapsed": false
   },
   "outputs": [],
   "source": [
    "# Slight cleanup\n",
    "bechdel_df = bechdel_df.rename(columns = {'passfail': 'bechdel'})\n",
    "bechdel_df.drop(['imdbID', 'Title', 'Year', 'PassFail'], inplace = True)"
   ]
  }
 ],
 "metadata": {
  "anaconda-cloud": {},
  "kernelspec": {
   "display_name": "Python [default]",
   "language": "python",
   "name": "python2"
  },
  "language_info": {
   "codemirror_mode": {
    "name": "ipython",
    "version": 2
   },
   "file_extension": ".py",
   "mimetype": "text/x-python",
   "name": "python",
   "nbconvert_exporter": "python",
   "pygments_lexer": "ipython2",
   "version": "2.7.12"
  }
 },
 "nbformat": 4,
 "nbformat_minor": 0
}
